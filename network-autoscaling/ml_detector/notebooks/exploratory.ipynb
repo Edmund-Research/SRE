{
 "cells": [
  {
   "cell_type": "code",
   "execution_count": null,
   "metadata": {
    "vscode": {
     "languageId": "plaintext"
    }
   },
   "outputs": [],
   "source": [
    "# Exploratory analysis and prototyping of anomaly detection\n",
    "import pandas as pd\n",
    "import numpy as np\n",
    "import matplotlib.pyplot as plt\n",
    "from sklearn.ensemble import IsolationForest\n",
    "\n",
    "# Load synthetic or real Prometheus data\n",
    "df = pd.read_csv('../ml_detector/data/synthetic_network.csv', parse_dates=['timestamp'], index_col='timestamp')\n",
    "\n",
    "# Visualize traffic\n",
    "plt.figure(figsize=(10,4))\n",
    "plt.plot(df.index, df['network_in'], label='Ingress')\n",
    "plt.title('Network Ingress Over Time')\n",
    "plt.xlabel('Time')\n",
    "plt.ylabel('Bytes/sec')\n",
    "plt.legend()\n",
    "plt.show()\n",
    "\n",
    "# Quick-run IsolationForest for anomalies\n",
    "model = IsolationForest(contamination=0.01, random_state=42)\n",
    "df['anomaly'] = model.fit_predict(df[['network_in']]) == -1\n",
    "\n",
    "plt.figure(figsize=(10,4))\n",
    "plt.plot(df.index, df['network_in'], label='Ingress')\n",
    "plt.scatter(df.index[df['anomaly']], df['network_in'][df['anomaly']], c='r', label='Anomaly')\n",
    "plt.legend()\n",
    "plt.show()"
   ]
  }
 ],
 "metadata": {
  "language_info": {
   "name": "python"
  }
 },
 "nbformat": 4,
 "nbformat_minor": 2
}
